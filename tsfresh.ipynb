{
  "nbformat": 4,
  "nbformat_minor": 0,
  "metadata": {
    "colab": {
      "provenance": []
    },
    "kernelspec": {
      "name": "python3",
      "display_name": "Python 3"
    },
    "language_info": {
      "name": "python"
    }
  },
  "cells": [
    {
      "cell_type": "markdown",
      "source": [
        "# tsfresh - \"Time Series Feature Extraction based on Scalable Hypothesis Tests\"\n"
      ],
      "metadata": {
        "id": "jK0PDsPYUMfA"
      }
    },
    {
      "cell_type": "markdown",
      "source": [
        "## Feature Extraction and Selection\n",
        "\n",
        "This example shows how to use **tsfresh** to extract useful features from timeseries and use them to improve classification performance.\n",
        "\n",
        "We use the robot execution failure data set as an example"
      ],
      "metadata": {
        "id": "TyNohlb_Utzc"
      }
    },
    {
      "cell_type": "code",
      "source": [
        "!pip install tsfresh"
      ],
      "metadata": {
        "id": "MHny6SiKVB35"
      },
      "execution_count": null,
      "outputs": []
    },
    {
      "cell_type": "code",
      "execution_count": 2,
      "metadata": {
        "id": "vObdvBpyRXgi"
      },
      "outputs": [],
      "source": [
        "%matplotlib inline\n",
        "\n",
        "import matplotlib.pylab as plt\n",
        "\n",
        "from tsfresh import extract_features, extract_relevant_features, select_features\n",
        "from tsfresh.utilities.dataframe_functions import impute\n",
        "from tsfresh.feature_extraction import ComprehensiveFCParameters\n",
        "\n",
        "from sklearn.tree import DecisionTreeClassifier\n",
        "from sklearn.model_selection import train_test_split\n",
        "from sklearn.metrics import classification_report"
      ]
    },
    {
      "cell_type": "markdown",
      "source": [
        "## Load and visualize data\n",
        "\n",
        "The data set documents 88 robot executions (each has a `unique id` between 1 and 88), which is a subset of the [Robot Execution Failures Data Set](https://archive.ics.uci.edu/dataset/138/robot+execution+failures). For the purpose of simplicity we are only differentiating between successfull and failed executions (`y`).\n",
        "\n",
        "For each execution 15 force (F) and torque (T) samples are given, which were measured at regular time intervals for the spatial dimensions x, y, and z. Therefore each row of the data frame references a specific execution (`id`), a time index (`index`) and documents the respective measurements of 6 sensors (`F_x`, `F_y`, `F_z`, `T_x`, `T_y`, `T_z`)."
      ],
      "metadata": {
        "id": "7Ewt0eK6VMnB"
      }
    },
    {
      "cell_type": "code",
      "source": [
        "from tsfresh.examples import robot_execution_failures\n",
        "\n",
        "robot_execution_failures.download_robot_execution_failures()\n",
        "df, y = robot_execution_failures.load_robot_execution_failures()\n",
        "df.head(20)"
      ],
      "metadata": {
        "colab": {
          "base_uri": "https://localhost:8080/",
          "height": 693
        },
        "id": "nJWbafoeVS5c",
        "outputId": "5bae516c-5f92-4083-efea-8d7033109eff"
      },
      "execution_count": 4,
      "outputs": [
        {
          "output_type": "stream",
          "name": "stderr",
          "text": [
            "WARNING:tsfresh.examples.robot_execution_failures:You have already downloaded the Robot Execution Failures LP1 Data Set.\n"
          ]
        },
        {
          "output_type": "execute_result",
          "data": {
            "text/plain": [
              "    id  time  F_x  F_y  F_z  T_x  T_y  T_z\n",
              "0    1     0   -1   -1   63   -3   -1    0\n",
              "1    1     1    0    0   62   -3   -1    0\n",
              "2    1     2   -1   -1   61   -3    0    0\n",
              "3    1     3   -1   -1   63   -2   -1    0\n",
              "4    1     4   -1   -1   63   -3   -1    0\n",
              "5    1     5   -1   -1   63   -3   -1    0\n",
              "6    1     6   -1   -1   63   -3    0    0\n",
              "7    1     7   -1   -1   63   -3   -1    0\n",
              "8    1     8   -1   -1   63   -3   -1    0\n",
              "9    1     9   -1   -1   61   -3    0    0\n",
              "10   1    10   -1   -1   61   -3    0    0\n",
              "11   1    11   -1   -1   64   -3   -1    0\n",
              "12   1    12   -1   -1   64   -3   -1    0\n",
              "13   1    13   -1   -1   60   -3    0    0\n",
              "14   1    14   -1    0   64   -2   -1    0\n",
              "15   2     0   -1   -1   63   -2   -1    0\n",
              "16   2     1   -1   -1   63   -3   -1    0\n",
              "17   2     2   -1   -1   61   -3    0    0\n",
              "18   2     3    0   -4   63    1    0    0\n",
              "19   2     4    0   -1   59   -2    0   -1"
            ],
            "text/html": [
              "\n",
              "  <div id=\"df-68e8a879-63f3-4cc0-9a0d-2afb9962c033\" class=\"colab-df-container\">\n",
              "    <div>\n",
              "<style scoped>\n",
              "    .dataframe tbody tr th:only-of-type {\n",
              "        vertical-align: middle;\n",
              "    }\n",
              "\n",
              "    .dataframe tbody tr th {\n",
              "        vertical-align: top;\n",
              "    }\n",
              "\n",
              "    .dataframe thead th {\n",
              "        text-align: right;\n",
              "    }\n",
              "</style>\n",
              "<table border=\"1\" class=\"dataframe\">\n",
              "  <thead>\n",
              "    <tr style=\"text-align: right;\">\n",
              "      <th></th>\n",
              "      <th>id</th>\n",
              "      <th>time</th>\n",
              "      <th>F_x</th>\n",
              "      <th>F_y</th>\n",
              "      <th>F_z</th>\n",
              "      <th>T_x</th>\n",
              "      <th>T_y</th>\n",
              "      <th>T_z</th>\n",
              "    </tr>\n",
              "  </thead>\n",
              "  <tbody>\n",
              "    <tr>\n",
              "      <th>0</th>\n",
              "      <td>1</td>\n",
              "      <td>0</td>\n",
              "      <td>-1</td>\n",
              "      <td>-1</td>\n",
              "      <td>63</td>\n",
              "      <td>-3</td>\n",
              "      <td>-1</td>\n",
              "      <td>0</td>\n",
              "    </tr>\n",
              "    <tr>\n",
              "      <th>1</th>\n",
              "      <td>1</td>\n",
              "      <td>1</td>\n",
              "      <td>0</td>\n",
              "      <td>0</td>\n",
              "      <td>62</td>\n",
              "      <td>-3</td>\n",
              "      <td>-1</td>\n",
              "      <td>0</td>\n",
              "    </tr>\n",
              "    <tr>\n",
              "      <th>2</th>\n",
              "      <td>1</td>\n",
              "      <td>2</td>\n",
              "      <td>-1</td>\n",
              "      <td>-1</td>\n",
              "      <td>61</td>\n",
              "      <td>-3</td>\n",
              "      <td>0</td>\n",
              "      <td>0</td>\n",
              "    </tr>\n",
              "    <tr>\n",
              "      <th>3</th>\n",
              "      <td>1</td>\n",
              "      <td>3</td>\n",
              "      <td>-1</td>\n",
              "      <td>-1</td>\n",
              "      <td>63</td>\n",
              "      <td>-2</td>\n",
              "      <td>-1</td>\n",
              "      <td>0</td>\n",
              "    </tr>\n",
              "    <tr>\n",
              "      <th>4</th>\n",
              "      <td>1</td>\n",
              "      <td>4</td>\n",
              "      <td>-1</td>\n",
              "      <td>-1</td>\n",
              "      <td>63</td>\n",
              "      <td>-3</td>\n",
              "      <td>-1</td>\n",
              "      <td>0</td>\n",
              "    </tr>\n",
              "    <tr>\n",
              "      <th>5</th>\n",
              "      <td>1</td>\n",
              "      <td>5</td>\n",
              "      <td>-1</td>\n",
              "      <td>-1</td>\n",
              "      <td>63</td>\n",
              "      <td>-3</td>\n",
              "      <td>-1</td>\n",
              "      <td>0</td>\n",
              "    </tr>\n",
              "    <tr>\n",
              "      <th>6</th>\n",
              "      <td>1</td>\n",
              "      <td>6</td>\n",
              "      <td>-1</td>\n",
              "      <td>-1</td>\n",
              "      <td>63</td>\n",
              "      <td>-3</td>\n",
              "      <td>0</td>\n",
              "      <td>0</td>\n",
              "    </tr>\n",
              "    <tr>\n",
              "      <th>7</th>\n",
              "      <td>1</td>\n",
              "      <td>7</td>\n",
              "      <td>-1</td>\n",
              "      <td>-1</td>\n",
              "      <td>63</td>\n",
              "      <td>-3</td>\n",
              "      <td>-1</td>\n",
              "      <td>0</td>\n",
              "    </tr>\n",
              "    <tr>\n",
              "      <th>8</th>\n",
              "      <td>1</td>\n",
              "      <td>8</td>\n",
              "      <td>-1</td>\n",
              "      <td>-1</td>\n",
              "      <td>63</td>\n",
              "      <td>-3</td>\n",
              "      <td>-1</td>\n",
              "      <td>0</td>\n",
              "    </tr>\n",
              "    <tr>\n",
              "      <th>9</th>\n",
              "      <td>1</td>\n",
              "      <td>9</td>\n",
              "      <td>-1</td>\n",
              "      <td>-1</td>\n",
              "      <td>61</td>\n",
              "      <td>-3</td>\n",
              "      <td>0</td>\n",
              "      <td>0</td>\n",
              "    </tr>\n",
              "    <tr>\n",
              "      <th>10</th>\n",
              "      <td>1</td>\n",
              "      <td>10</td>\n",
              "      <td>-1</td>\n",
              "      <td>-1</td>\n",
              "      <td>61</td>\n",
              "      <td>-3</td>\n",
              "      <td>0</td>\n",
              "      <td>0</td>\n",
              "    </tr>\n",
              "    <tr>\n",
              "      <th>11</th>\n",
              "      <td>1</td>\n",
              "      <td>11</td>\n",
              "      <td>-1</td>\n",
              "      <td>-1</td>\n",
              "      <td>64</td>\n",
              "      <td>-3</td>\n",
              "      <td>-1</td>\n",
              "      <td>0</td>\n",
              "    </tr>\n",
              "    <tr>\n",
              "      <th>12</th>\n",
              "      <td>1</td>\n",
              "      <td>12</td>\n",
              "      <td>-1</td>\n",
              "      <td>-1</td>\n",
              "      <td>64</td>\n",
              "      <td>-3</td>\n",
              "      <td>-1</td>\n",
              "      <td>0</td>\n",
              "    </tr>\n",
              "    <tr>\n",
              "      <th>13</th>\n",
              "      <td>1</td>\n",
              "      <td>13</td>\n",
              "      <td>-1</td>\n",
              "      <td>-1</td>\n",
              "      <td>60</td>\n",
              "      <td>-3</td>\n",
              "      <td>0</td>\n",
              "      <td>0</td>\n",
              "    </tr>\n",
              "    <tr>\n",
              "      <th>14</th>\n",
              "      <td>1</td>\n",
              "      <td>14</td>\n",
              "      <td>-1</td>\n",
              "      <td>0</td>\n",
              "      <td>64</td>\n",
              "      <td>-2</td>\n",
              "      <td>-1</td>\n",
              "      <td>0</td>\n",
              "    </tr>\n",
              "    <tr>\n",
              "      <th>15</th>\n",
              "      <td>2</td>\n",
              "      <td>0</td>\n",
              "      <td>-1</td>\n",
              "      <td>-1</td>\n",
              "      <td>63</td>\n",
              "      <td>-2</td>\n",
              "      <td>-1</td>\n",
              "      <td>0</td>\n",
              "    </tr>\n",
              "    <tr>\n",
              "      <th>16</th>\n",
              "      <td>2</td>\n",
              "      <td>1</td>\n",
              "      <td>-1</td>\n",
              "      <td>-1</td>\n",
              "      <td>63</td>\n",
              "      <td>-3</td>\n",
              "      <td>-1</td>\n",
              "      <td>0</td>\n",
              "    </tr>\n",
              "    <tr>\n",
              "      <th>17</th>\n",
              "      <td>2</td>\n",
              "      <td>2</td>\n",
              "      <td>-1</td>\n",
              "      <td>-1</td>\n",
              "      <td>61</td>\n",
              "      <td>-3</td>\n",
              "      <td>0</td>\n",
              "      <td>0</td>\n",
              "    </tr>\n",
              "    <tr>\n",
              "      <th>18</th>\n",
              "      <td>2</td>\n",
              "      <td>3</td>\n",
              "      <td>0</td>\n",
              "      <td>-4</td>\n",
              "      <td>63</td>\n",
              "      <td>1</td>\n",
              "      <td>0</td>\n",
              "      <td>0</td>\n",
              "    </tr>\n",
              "    <tr>\n",
              "      <th>19</th>\n",
              "      <td>2</td>\n",
              "      <td>4</td>\n",
              "      <td>0</td>\n",
              "      <td>-1</td>\n",
              "      <td>59</td>\n",
              "      <td>-2</td>\n",
              "      <td>0</td>\n",
              "      <td>-1</td>\n",
              "    </tr>\n",
              "  </tbody>\n",
              "</table>\n",
              "</div>\n",
              "    <div class=\"colab-df-buttons\">\n",
              "\n",
              "  <div class=\"colab-df-container\">\n",
              "    <button class=\"colab-df-convert\" onclick=\"convertToInteractive('df-68e8a879-63f3-4cc0-9a0d-2afb9962c033')\"\n",
              "            title=\"Convert this dataframe to an interactive table.\"\n",
              "            style=\"display:none;\">\n",
              "\n",
              "  <svg xmlns=\"http://www.w3.org/2000/svg\" height=\"24px\" viewBox=\"0 -960 960 960\">\n",
              "    <path d=\"M120-120v-720h720v720H120Zm60-500h600v-160H180v160Zm220 220h160v-160H400v160Zm0 220h160v-160H400v160ZM180-400h160v-160H180v160Zm440 0h160v-160H620v160ZM180-180h160v-160H180v160Zm440 0h160v-160H620v160Z\"/>\n",
              "  </svg>\n",
              "    </button>\n",
              "\n",
              "  <style>\n",
              "    .colab-df-container {\n",
              "      display:flex;\n",
              "      gap: 12px;\n",
              "    }\n",
              "\n",
              "    .colab-df-convert {\n",
              "      background-color: #E8F0FE;\n",
              "      border: none;\n",
              "      border-radius: 50%;\n",
              "      cursor: pointer;\n",
              "      display: none;\n",
              "      fill: #1967D2;\n",
              "      height: 32px;\n",
              "      padding: 0 0 0 0;\n",
              "      width: 32px;\n",
              "    }\n",
              "\n",
              "    .colab-df-convert:hover {\n",
              "      background-color: #E2EBFA;\n",
              "      box-shadow: 0px 1px 2px rgba(60, 64, 67, 0.3), 0px 1px 3px 1px rgba(60, 64, 67, 0.15);\n",
              "      fill: #174EA6;\n",
              "    }\n",
              "\n",
              "    .colab-df-buttons div {\n",
              "      margin-bottom: 4px;\n",
              "    }\n",
              "\n",
              "    [theme=dark] .colab-df-convert {\n",
              "      background-color: #3B4455;\n",
              "      fill: #D2E3FC;\n",
              "    }\n",
              "\n",
              "    [theme=dark] .colab-df-convert:hover {\n",
              "      background-color: #434B5C;\n",
              "      box-shadow: 0px 1px 3px 1px rgba(0, 0, 0, 0.15);\n",
              "      filter: drop-shadow(0px 1px 2px rgba(0, 0, 0, 0.3));\n",
              "      fill: #FFFFFF;\n",
              "    }\n",
              "  </style>\n",
              "\n",
              "    <script>\n",
              "      const buttonEl =\n",
              "        document.querySelector('#df-68e8a879-63f3-4cc0-9a0d-2afb9962c033 button.colab-df-convert');\n",
              "      buttonEl.style.display =\n",
              "        google.colab.kernel.accessAllowed ? 'block' : 'none';\n",
              "\n",
              "      async function convertToInteractive(key) {\n",
              "        const element = document.querySelector('#df-68e8a879-63f3-4cc0-9a0d-2afb9962c033');\n",
              "        const dataTable =\n",
              "          await google.colab.kernel.invokeFunction('convertToInteractive',\n",
              "                                                    [key], {});\n",
              "        if (!dataTable) return;\n",
              "\n",
              "        const docLinkHtml = 'Like what you see? Visit the ' +\n",
              "          '<a target=\"_blank\" href=https://colab.research.google.com/notebooks/data_table.ipynb>data table notebook</a>'\n",
              "          + ' to learn more about interactive tables.';\n",
              "        element.innerHTML = '';\n",
              "        dataTable['output_type'] = 'display_data';\n",
              "        await google.colab.output.renderOutput(dataTable, element);\n",
              "        const docLink = document.createElement('div');\n",
              "        docLink.innerHTML = docLinkHtml;\n",
              "        element.appendChild(docLink);\n",
              "      }\n",
              "    </script>\n",
              "  </div>\n",
              "\n",
              "\n",
              "<div id=\"df-37b889aa-cc03-4fb9-9076-c0c4509e7e72\">\n",
              "  <button class=\"colab-df-quickchart\" onclick=\"quickchart('df-37b889aa-cc03-4fb9-9076-c0c4509e7e72')\"\n",
              "            title=\"Suggest charts.\"\n",
              "            style=\"display:none;\">\n",
              "\n",
              "<svg xmlns=\"http://www.w3.org/2000/svg\" height=\"24px\"viewBox=\"0 0 24 24\"\n",
              "     width=\"24px\">\n",
              "    <g>\n",
              "        <path d=\"M19 3H5c-1.1 0-2 .9-2 2v14c0 1.1.9 2 2 2h14c1.1 0 2-.9 2-2V5c0-1.1-.9-2-2-2zM9 17H7v-7h2v7zm4 0h-2V7h2v10zm4 0h-2v-4h2v4z\"/>\n",
              "    </g>\n",
              "</svg>\n",
              "  </button>\n",
              "\n",
              "<style>\n",
              "  .colab-df-quickchart {\n",
              "      --bg-color: #E8F0FE;\n",
              "      --fill-color: #1967D2;\n",
              "      --hover-bg-color: #E2EBFA;\n",
              "      --hover-fill-color: #174EA6;\n",
              "      --disabled-fill-color: #AAA;\n",
              "      --disabled-bg-color: #DDD;\n",
              "  }\n",
              "\n",
              "  [theme=dark] .colab-df-quickchart {\n",
              "      --bg-color: #3B4455;\n",
              "      --fill-color: #D2E3FC;\n",
              "      --hover-bg-color: #434B5C;\n",
              "      --hover-fill-color: #FFFFFF;\n",
              "      --disabled-bg-color: #3B4455;\n",
              "      --disabled-fill-color: #666;\n",
              "  }\n",
              "\n",
              "  .colab-df-quickchart {\n",
              "    background-color: var(--bg-color);\n",
              "    border: none;\n",
              "    border-radius: 50%;\n",
              "    cursor: pointer;\n",
              "    display: none;\n",
              "    fill: var(--fill-color);\n",
              "    height: 32px;\n",
              "    padding: 0;\n",
              "    width: 32px;\n",
              "  }\n",
              "\n",
              "  .colab-df-quickchart:hover {\n",
              "    background-color: var(--hover-bg-color);\n",
              "    box-shadow: 0 1px 2px rgba(60, 64, 67, 0.3), 0 1px 3px 1px rgba(60, 64, 67, 0.15);\n",
              "    fill: var(--button-hover-fill-color);\n",
              "  }\n",
              "\n",
              "  .colab-df-quickchart-complete:disabled,\n",
              "  .colab-df-quickchart-complete:disabled:hover {\n",
              "    background-color: var(--disabled-bg-color);\n",
              "    fill: var(--disabled-fill-color);\n",
              "    box-shadow: none;\n",
              "  }\n",
              "\n",
              "  .colab-df-spinner {\n",
              "    border: 2px solid var(--fill-color);\n",
              "    border-color: transparent;\n",
              "    border-bottom-color: var(--fill-color);\n",
              "    animation:\n",
              "      spin 1s steps(1) infinite;\n",
              "  }\n",
              "\n",
              "  @keyframes spin {\n",
              "    0% {\n",
              "      border-color: transparent;\n",
              "      border-bottom-color: var(--fill-color);\n",
              "      border-left-color: var(--fill-color);\n",
              "    }\n",
              "    20% {\n",
              "      border-color: transparent;\n",
              "      border-left-color: var(--fill-color);\n",
              "      border-top-color: var(--fill-color);\n",
              "    }\n",
              "    30% {\n",
              "      border-color: transparent;\n",
              "      border-left-color: var(--fill-color);\n",
              "      border-top-color: var(--fill-color);\n",
              "      border-right-color: var(--fill-color);\n",
              "    }\n",
              "    40% {\n",
              "      border-color: transparent;\n",
              "      border-right-color: var(--fill-color);\n",
              "      border-top-color: var(--fill-color);\n",
              "    }\n",
              "    60% {\n",
              "      border-color: transparent;\n",
              "      border-right-color: var(--fill-color);\n",
              "    }\n",
              "    80% {\n",
              "      border-color: transparent;\n",
              "      border-right-color: var(--fill-color);\n",
              "      border-bottom-color: var(--fill-color);\n",
              "    }\n",
              "    90% {\n",
              "      border-color: transparent;\n",
              "      border-bottom-color: var(--fill-color);\n",
              "    }\n",
              "  }\n",
              "</style>\n",
              "\n",
              "  <script>\n",
              "    async function quickchart(key) {\n",
              "      const quickchartButtonEl =\n",
              "        document.querySelector('#' + key + ' button');\n",
              "      quickchartButtonEl.disabled = true;  // To prevent multiple clicks.\n",
              "      quickchartButtonEl.classList.add('colab-df-spinner');\n",
              "      try {\n",
              "        const charts = await google.colab.kernel.invokeFunction(\n",
              "            'suggestCharts', [key], {});\n",
              "      } catch (error) {\n",
              "        console.error('Error during call to suggestCharts:', error);\n",
              "      }\n",
              "      quickchartButtonEl.classList.remove('colab-df-spinner');\n",
              "      quickchartButtonEl.classList.add('colab-df-quickchart-complete');\n",
              "    }\n",
              "    (() => {\n",
              "      let quickchartButtonEl =\n",
              "        document.querySelector('#df-37b889aa-cc03-4fb9-9076-c0c4509e7e72 button');\n",
              "      quickchartButtonEl.style.display =\n",
              "        google.colab.kernel.accessAllowed ? 'block' : 'none';\n",
              "    })();\n",
              "  </script>\n",
              "</div>\n",
              "    </div>\n",
              "  </div>\n"
            ]
          },
          "metadata": {},
          "execution_count": 4
        }
      ]
    },
    {
      "cell_type": "code",
      "source": [
        "df['id'].unique()"
      ],
      "metadata": {
        "colab": {
          "base_uri": "https://localhost:8080/"
        },
        "id": "YE6Zj6gfvuFU",
        "outputId": "f33d988e-ab52-444d-aa9e-3a6fa4d9b460"
      },
      "execution_count": 12,
      "outputs": [
        {
          "output_type": "execute_result",
          "data": {
            "text/plain": [
              "array([ 1,  2,  3,  4,  5,  6,  7,  8,  9, 10, 11, 12, 13, 14, 15, 16, 17,\n",
              "       18, 19, 20, 21, 22, 23, 24, 25, 26, 27, 28, 29, 30, 31, 32, 33, 34,\n",
              "       35, 36, 37, 38, 39, 40, 41, 42, 43, 44, 45, 46, 47, 48, 49, 50, 51,\n",
              "       52, 53, 54, 55, 56, 57, 58, 59, 60, 61, 62, 63, 64, 65, 66, 67, 68,\n",
              "       69, 70, 71, 72, 73, 74, 75, 76, 77, 78, 79, 80, 81, 82, 83, 84, 85,\n",
              "       86, 87, 88])"
            ]
          },
          "metadata": {},
          "execution_count": 12
        }
      ]
    },
    {
      "cell_type": "code",
      "source": [
        "# y has the labels. True means successful execution, False is Failed execution.\n",
        "y"
      ],
      "metadata": {
        "colab": {
          "base_uri": "https://localhost:8080/"
        },
        "id": "PkYsTucMXkZS",
        "outputId": "5ed5b24b-699f-4ee3-dee8-bf08f87c4f3b"
      },
      "execution_count": 7,
      "outputs": [
        {
          "output_type": "execute_result",
          "data": {
            "text/plain": [
              "1      True\n",
              "2      True\n",
              "3      True\n",
              "4      True\n",
              "5      True\n",
              "      ...  \n",
              "84    False\n",
              "85    False\n",
              "86    False\n",
              "87    False\n",
              "88    False\n",
              "Length: 88, dtype: bool"
            ]
          },
          "metadata": {},
          "execution_count": 7
        }
      ]
    },
    {
      "cell_type": "markdown",
      "source": [
        "## Extract Features\n",
        "\n",
        "We can use the data to extract time series features using `tsfresh`. We want to extract features for each time series, that means for each robot execution (which is our id) and for each of the measured sensor values (`F_*` and `T_*`).\n",
        "\n",
        "For machine learning, we need to transform the values for each robot in a single line. `tsfresh` will result in a single row for each id and will calculate the features for each columns separately. It uses methods like\n",
        "\n",
        "* Statistics\n",
        "* time series analysis\n",
        "* signal processing\n",
        "\n",
        "For e.g., it might take the average of all 15 F_x for id=1\n",
        "\n",
        "The `time` column is our sorting column. For an overview on the data formats of `tsfresh`, please have a look at the [documentation](https://tsfresh.readthedocs.io/en/latest/text/data_formats.html)."
      ],
      "metadata": {
        "id": "kTms7jUIWPTU"
      }
    },
    {
      "cell_type": "code",
      "source": [
        "# We are very explicit here and specify the `default_fc_parameters`. If you remove this argument,\n",
        "# the ComprehensiveFCParameters (= all feature calculators) will also be used as default.\n",
        "# Have a look into the documentation (https://tsfresh.readthedocs.io/en/latest/text/feature_extraction_settings.html) to learn more about this.\n",
        "extraction_settings = ComprehensiveFCParameters()\n",
        "\n",
        "X = extract_features(df, column_id='id', column_sort='time',\n",
        "                     default_fc_parameters=extraction_settings,\n",
        "                     # we impute = remove all NaN features automatically\n",
        "                     impute_function=impute)"
      ],
      "metadata": {
        "colab": {
          "base_uri": "https://localhost:8080/"
        },
        "id": "mi5uPmXGVxJo",
        "outputId": "33534d46-9035-4bee-d773-30184cfd521d"
      },
      "execution_count": 8,
      "outputs": [
        {
          "output_type": "stream",
          "name": "stderr",
          "text": [
            "WARNING:tsfresh.feature_extraction.settings:Dependency not available for matrix_profile, this feature will be disabled!\n",
            "Feature Extraction: 100%|██████████| 528/528 [00:28<00:00, 18.43it/s]\n"
          ]
        }
      ]
    },
    {
      "cell_type": "markdown",
      "source": [
        "The `default_fc_parameters` parameter defines which features to extract and potentially any specific parameters for those features. Each feature extractor can have parameters that influence its behavior. By setting the `default_fc_parameters`, you can control which features are extracted and how they are calculated.\n",
        "\n",
        "The **`ComprehensiveFCParameters()`** function from the tsfresh library returns a dictionary containing a comprehensive set of default feature extraction parameters. When you set default_fc_parameters to `ComprehensiveFCParameters()`, you're essentially instructing tsfresh to extract a wide variety of features from the time series data with the default parameters for each feature calculator.\n",
        "\n",
        "* This comprehensive set includes a wide variety of features, including basic statistics, linearity measures, periodicity measures, and more.\n",
        "\n",
        "* However, it's worth noting that because it is comprehensive, the extraction process can be time-consuming, especially for large datasets.\n",
        "\n",
        "<br>\n",
        "There are also other predefined parameter sets in tsfresh, such as:\n",
        "\n",
        "**`MinimalFCParameters()`:** A smaller set of features for quicker extraction.\n",
        "<br>\n",
        "**`EfficientFCParameters()`:** A set of features that are considered to be a balance between comprehensiveness and efficiency."
      ],
      "metadata": {
        "id": "6SFAl9iwuJrx"
      }
    },
    {
      "cell_type": "markdown",
      "source": [
        "  "
      ],
      "metadata": {
        "id": "ag9QKhyVvbx0"
      }
    },
    {
      "cell_type": "markdown",
      "source": [
        "X now contains for each robot execution (= id) a single row, with all the features tsfresh calculated based on the measured times series values for this id."
      ],
      "metadata": {
        "id": "dObF-nxEvcls"
      }
    },
    {
      "cell_type": "code",
      "source": [
        "X.head()"
      ],
      "metadata": {
        "colab": {
          "base_uri": "https://localhost:8080/",
          "height": 255
        },
        "id": "jj7qADowXirc",
        "outputId": "fea55628-f1a4-4c71-d447-f3255ca65f06"
      },
      "execution_count": 9,
      "outputs": [
        {
          "output_type": "execute_result",
          "data": {
            "text/plain": [
              "   F_x__variance_larger_than_standard_deviation  F_x__has_duplicate_max  \\\n",
              "1                                           0.0                     0.0   \n",
              "2                                           0.0                     1.0   \n",
              "3                                           0.0                     0.0   \n",
              "4                                           0.0                     1.0   \n",
              "5                                           0.0                     0.0   \n",
              "\n",
              "   F_x__has_duplicate_min  F_x__has_duplicate  F_x__sum_values  \\\n",
              "1                     1.0                 1.0            -14.0   \n",
              "2                     1.0                 1.0            -13.0   \n",
              "3                     1.0                 1.0            -10.0   \n",
              "4                     1.0                 1.0             -6.0   \n",
              "5                     0.0                 1.0             -9.0   \n",
              "\n",
              "   F_x__abs_energy  F_x__mean_abs_change  F_x__mean_change  \\\n",
              "1             14.0              0.142857          0.000000   \n",
              "2             25.0              1.000000          0.000000   \n",
              "3             12.0              0.714286          0.000000   \n",
              "4             16.0              1.214286         -0.071429   \n",
              "5             17.0              0.928571         -0.071429   \n",
              "\n",
              "   F_x__mean_second_derivative_central  F_x__median  ...  \\\n",
              "1                            -0.038462         -1.0  ...   \n",
              "2                            -0.038462         -1.0  ...   \n",
              "3                            -0.038462         -1.0  ...   \n",
              "4                            -0.038462          0.0  ...   \n",
              "5                             0.038462         -1.0  ...   \n",
              "\n",
              "   T_z__fourier_entropy__bins_5  T_z__fourier_entropy__bins_10  \\\n",
              "1                      0.974315                       1.288185   \n",
              "2                      1.073543                       1.494175   \n",
              "3                      1.386294                       1.732868   \n",
              "4                      1.073543                       1.494175   \n",
              "5                      0.900256                       1.320888   \n",
              "\n",
              "   T_z__fourier_entropy__bins_100  \\\n",
              "1                        1.906155   \n",
              "2                        2.079442   \n",
              "3                        2.079442   \n",
              "4                        2.079442   \n",
              "5                        2.079442   \n",
              "\n",
              "   T_z__permutation_entropy__dimension_3__tau_1  \\\n",
              "1                                     -0.000000   \n",
              "2                                      0.937156   \n",
              "3                                      1.265857   \n",
              "4                                      1.156988   \n",
              "5                                      1.156988   \n",
              "\n",
              "   T_z__permutation_entropy__dimension_4__tau_1  \\\n",
              "1                                     -0.000000   \n",
              "2                                      1.234268   \n",
              "3                                      1.704551   \n",
              "4                                      1.907284   \n",
              "5                                      1.863680   \n",
              "\n",
              "   T_z__permutation_entropy__dimension_5__tau_1  \\\n",
              "1                                     -0.000000   \n",
              "2                                      1.540306   \n",
              "3                                      2.019815   \n",
              "4                                      2.397895   \n",
              "5                                      2.271869   \n",
              "\n",
              "   T_z__permutation_entropy__dimension_6__tau_1  \\\n",
              "1                                     -0.000000   \n",
              "2                                      1.748067   \n",
              "3                                      2.163956   \n",
              "4                                      2.302585   \n",
              "5                                      2.302585   \n",
              "\n",
              "   T_z__permutation_entropy__dimension_7__tau_1  \\\n",
              "1                                     -0.000000   \n",
              "2                                      1.831020   \n",
              "3                                      2.197225   \n",
              "4                                      2.197225   \n",
              "5                                      2.197225   \n",
              "\n",
              "   T_z__query_similarity_count__query_None__threshold_0.0  \\\n",
              "1                                                0.0        \n",
              "2                                                0.0        \n",
              "3                                                0.0        \n",
              "4                                                0.0        \n",
              "5                                                0.0        \n",
              "\n",
              "   T_z__mean_n_absolute_max__number_of_maxima_7  \n",
              "1                                      0.000000  \n",
              "2                                      0.571429  \n",
              "3                                      0.571429  \n",
              "4                                      1.000000  \n",
              "5                                      0.857143  \n",
              "\n",
              "[5 rows x 4698 columns]"
            ],
            "text/html": [
              "\n",
              "  <div id=\"df-be60290e-f1c3-44dc-9bfb-40272d38064a\" class=\"colab-df-container\">\n",
              "    <div>\n",
              "<style scoped>\n",
              "    .dataframe tbody tr th:only-of-type {\n",
              "        vertical-align: middle;\n",
              "    }\n",
              "\n",
              "    .dataframe tbody tr th {\n",
              "        vertical-align: top;\n",
              "    }\n",
              "\n",
              "    .dataframe thead th {\n",
              "        text-align: right;\n",
              "    }\n",
              "</style>\n",
              "<table border=\"1\" class=\"dataframe\">\n",
              "  <thead>\n",
              "    <tr style=\"text-align: right;\">\n",
              "      <th></th>\n",
              "      <th>F_x__variance_larger_than_standard_deviation</th>\n",
              "      <th>F_x__has_duplicate_max</th>\n",
              "      <th>F_x__has_duplicate_min</th>\n",
              "      <th>F_x__has_duplicate</th>\n",
              "      <th>F_x__sum_values</th>\n",
              "      <th>F_x__abs_energy</th>\n",
              "      <th>F_x__mean_abs_change</th>\n",
              "      <th>F_x__mean_change</th>\n",
              "      <th>F_x__mean_second_derivative_central</th>\n",
              "      <th>F_x__median</th>\n",
              "      <th>...</th>\n",
              "      <th>T_z__fourier_entropy__bins_5</th>\n",
              "      <th>T_z__fourier_entropy__bins_10</th>\n",
              "      <th>T_z__fourier_entropy__bins_100</th>\n",
              "      <th>T_z__permutation_entropy__dimension_3__tau_1</th>\n",
              "      <th>T_z__permutation_entropy__dimension_4__tau_1</th>\n",
              "      <th>T_z__permutation_entropy__dimension_5__tau_1</th>\n",
              "      <th>T_z__permutation_entropy__dimension_6__tau_1</th>\n",
              "      <th>T_z__permutation_entropy__dimension_7__tau_1</th>\n",
              "      <th>T_z__query_similarity_count__query_None__threshold_0.0</th>\n",
              "      <th>T_z__mean_n_absolute_max__number_of_maxima_7</th>\n",
              "    </tr>\n",
              "  </thead>\n",
              "  <tbody>\n",
              "    <tr>\n",
              "      <th>1</th>\n",
              "      <td>0.0</td>\n",
              "      <td>0.0</td>\n",
              "      <td>1.0</td>\n",
              "      <td>1.0</td>\n",
              "      <td>-14.0</td>\n",
              "      <td>14.0</td>\n",
              "      <td>0.142857</td>\n",
              "      <td>0.000000</td>\n",
              "      <td>-0.038462</td>\n",
              "      <td>-1.0</td>\n",
              "      <td>...</td>\n",
              "      <td>0.974315</td>\n",
              "      <td>1.288185</td>\n",
              "      <td>1.906155</td>\n",
              "      <td>-0.000000</td>\n",
              "      <td>-0.000000</td>\n",
              "      <td>-0.000000</td>\n",
              "      <td>-0.000000</td>\n",
              "      <td>-0.000000</td>\n",
              "      <td>0.0</td>\n",
              "      <td>0.000000</td>\n",
              "    </tr>\n",
              "    <tr>\n",
              "      <th>2</th>\n",
              "      <td>0.0</td>\n",
              "      <td>1.0</td>\n",
              "      <td>1.0</td>\n",
              "      <td>1.0</td>\n",
              "      <td>-13.0</td>\n",
              "      <td>25.0</td>\n",
              "      <td>1.000000</td>\n",
              "      <td>0.000000</td>\n",
              "      <td>-0.038462</td>\n",
              "      <td>-1.0</td>\n",
              "      <td>...</td>\n",
              "      <td>1.073543</td>\n",
              "      <td>1.494175</td>\n",
              "      <td>2.079442</td>\n",
              "      <td>0.937156</td>\n",
              "      <td>1.234268</td>\n",
              "      <td>1.540306</td>\n",
              "      <td>1.748067</td>\n",
              "      <td>1.831020</td>\n",
              "      <td>0.0</td>\n",
              "      <td>0.571429</td>\n",
              "    </tr>\n",
              "    <tr>\n",
              "      <th>3</th>\n",
              "      <td>0.0</td>\n",
              "      <td>0.0</td>\n",
              "      <td>1.0</td>\n",
              "      <td>1.0</td>\n",
              "      <td>-10.0</td>\n",
              "      <td>12.0</td>\n",
              "      <td>0.714286</td>\n",
              "      <td>0.000000</td>\n",
              "      <td>-0.038462</td>\n",
              "      <td>-1.0</td>\n",
              "      <td>...</td>\n",
              "      <td>1.386294</td>\n",
              "      <td>1.732868</td>\n",
              "      <td>2.079442</td>\n",
              "      <td>1.265857</td>\n",
              "      <td>1.704551</td>\n",
              "      <td>2.019815</td>\n",
              "      <td>2.163956</td>\n",
              "      <td>2.197225</td>\n",
              "      <td>0.0</td>\n",
              "      <td>0.571429</td>\n",
              "    </tr>\n",
              "    <tr>\n",
              "      <th>4</th>\n",
              "      <td>0.0</td>\n",
              "      <td>1.0</td>\n",
              "      <td>1.0</td>\n",
              "      <td>1.0</td>\n",
              "      <td>-6.0</td>\n",
              "      <td>16.0</td>\n",
              "      <td>1.214286</td>\n",
              "      <td>-0.071429</td>\n",
              "      <td>-0.038462</td>\n",
              "      <td>0.0</td>\n",
              "      <td>...</td>\n",
              "      <td>1.073543</td>\n",
              "      <td>1.494175</td>\n",
              "      <td>2.079442</td>\n",
              "      <td>1.156988</td>\n",
              "      <td>1.907284</td>\n",
              "      <td>2.397895</td>\n",
              "      <td>2.302585</td>\n",
              "      <td>2.197225</td>\n",
              "      <td>0.0</td>\n",
              "      <td>1.000000</td>\n",
              "    </tr>\n",
              "    <tr>\n",
              "      <th>5</th>\n",
              "      <td>0.0</td>\n",
              "      <td>0.0</td>\n",
              "      <td>0.0</td>\n",
              "      <td>1.0</td>\n",
              "      <td>-9.0</td>\n",
              "      <td>17.0</td>\n",
              "      <td>0.928571</td>\n",
              "      <td>-0.071429</td>\n",
              "      <td>0.038462</td>\n",
              "      <td>-1.0</td>\n",
              "      <td>...</td>\n",
              "      <td>0.900256</td>\n",
              "      <td>1.320888</td>\n",
              "      <td>2.079442</td>\n",
              "      <td>1.156988</td>\n",
              "      <td>1.863680</td>\n",
              "      <td>2.271869</td>\n",
              "      <td>2.302585</td>\n",
              "      <td>2.197225</td>\n",
              "      <td>0.0</td>\n",
              "      <td>0.857143</td>\n",
              "    </tr>\n",
              "  </tbody>\n",
              "</table>\n",
              "<p>5 rows × 4698 columns</p>\n",
              "</div>\n",
              "    <div class=\"colab-df-buttons\">\n",
              "\n",
              "  <div class=\"colab-df-container\">\n",
              "    <button class=\"colab-df-convert\" onclick=\"convertToInteractive('df-be60290e-f1c3-44dc-9bfb-40272d38064a')\"\n",
              "            title=\"Convert this dataframe to an interactive table.\"\n",
              "            style=\"display:none;\">\n",
              "\n",
              "  <svg xmlns=\"http://www.w3.org/2000/svg\" height=\"24px\" viewBox=\"0 -960 960 960\">\n",
              "    <path d=\"M120-120v-720h720v720H120Zm60-500h600v-160H180v160Zm220 220h160v-160H400v160Zm0 220h160v-160H400v160ZM180-400h160v-160H180v160Zm440 0h160v-160H620v160ZM180-180h160v-160H180v160Zm440 0h160v-160H620v160Z\"/>\n",
              "  </svg>\n",
              "    </button>\n",
              "\n",
              "  <style>\n",
              "    .colab-df-container {\n",
              "      display:flex;\n",
              "      gap: 12px;\n",
              "    }\n",
              "\n",
              "    .colab-df-convert {\n",
              "      background-color: #E8F0FE;\n",
              "      border: none;\n",
              "      border-radius: 50%;\n",
              "      cursor: pointer;\n",
              "      display: none;\n",
              "      fill: #1967D2;\n",
              "      height: 32px;\n",
              "      padding: 0 0 0 0;\n",
              "      width: 32px;\n",
              "    }\n",
              "\n",
              "    .colab-df-convert:hover {\n",
              "      background-color: #E2EBFA;\n",
              "      box-shadow: 0px 1px 2px rgba(60, 64, 67, 0.3), 0px 1px 3px 1px rgba(60, 64, 67, 0.15);\n",
              "      fill: #174EA6;\n",
              "    }\n",
              "\n",
              "    .colab-df-buttons div {\n",
              "      margin-bottom: 4px;\n",
              "    }\n",
              "\n",
              "    [theme=dark] .colab-df-convert {\n",
              "      background-color: #3B4455;\n",
              "      fill: #D2E3FC;\n",
              "    }\n",
              "\n",
              "    [theme=dark] .colab-df-convert:hover {\n",
              "      background-color: #434B5C;\n",
              "      box-shadow: 0px 1px 3px 1px rgba(0, 0, 0, 0.15);\n",
              "      filter: drop-shadow(0px 1px 2px rgba(0, 0, 0, 0.3));\n",
              "      fill: #FFFFFF;\n",
              "    }\n",
              "  </style>\n",
              "\n",
              "    <script>\n",
              "      const buttonEl =\n",
              "        document.querySelector('#df-be60290e-f1c3-44dc-9bfb-40272d38064a button.colab-df-convert');\n",
              "      buttonEl.style.display =\n",
              "        google.colab.kernel.accessAllowed ? 'block' : 'none';\n",
              "\n",
              "      async function convertToInteractive(key) {\n",
              "        const element = document.querySelector('#df-be60290e-f1c3-44dc-9bfb-40272d38064a');\n",
              "        const dataTable =\n",
              "          await google.colab.kernel.invokeFunction('convertToInteractive',\n",
              "                                                    [key], {});\n",
              "        if (!dataTable) return;\n",
              "\n",
              "        const docLinkHtml = 'Like what you see? Visit the ' +\n",
              "          '<a target=\"_blank\" href=https://colab.research.google.com/notebooks/data_table.ipynb>data table notebook</a>'\n",
              "          + ' to learn more about interactive tables.';\n",
              "        element.innerHTML = '';\n",
              "        dataTable['output_type'] = 'display_data';\n",
              "        await google.colab.output.renderOutput(dataTable, element);\n",
              "        const docLink = document.createElement('div');\n",
              "        docLink.innerHTML = docLinkHtml;\n",
              "        element.appendChild(docLink);\n",
              "      }\n",
              "    </script>\n",
              "  </div>\n",
              "\n",
              "\n",
              "<div id=\"df-4fa64b6b-d51c-489d-9efc-c0128f4f6a35\">\n",
              "  <button class=\"colab-df-quickchart\" onclick=\"quickchart('df-4fa64b6b-d51c-489d-9efc-c0128f4f6a35')\"\n",
              "            title=\"Suggest charts.\"\n",
              "            style=\"display:none;\">\n",
              "\n",
              "<svg xmlns=\"http://www.w3.org/2000/svg\" height=\"24px\"viewBox=\"0 0 24 24\"\n",
              "     width=\"24px\">\n",
              "    <g>\n",
              "        <path d=\"M19 3H5c-1.1 0-2 .9-2 2v14c0 1.1.9 2 2 2h14c1.1 0 2-.9 2-2V5c0-1.1-.9-2-2-2zM9 17H7v-7h2v7zm4 0h-2V7h2v10zm4 0h-2v-4h2v4z\"/>\n",
              "    </g>\n",
              "</svg>\n",
              "  </button>\n",
              "\n",
              "<style>\n",
              "  .colab-df-quickchart {\n",
              "      --bg-color: #E8F0FE;\n",
              "      --fill-color: #1967D2;\n",
              "      --hover-bg-color: #E2EBFA;\n",
              "      --hover-fill-color: #174EA6;\n",
              "      --disabled-fill-color: #AAA;\n",
              "      --disabled-bg-color: #DDD;\n",
              "  }\n",
              "\n",
              "  [theme=dark] .colab-df-quickchart {\n",
              "      --bg-color: #3B4455;\n",
              "      --fill-color: #D2E3FC;\n",
              "      --hover-bg-color: #434B5C;\n",
              "      --hover-fill-color: #FFFFFF;\n",
              "      --disabled-bg-color: #3B4455;\n",
              "      --disabled-fill-color: #666;\n",
              "  }\n",
              "\n",
              "  .colab-df-quickchart {\n",
              "    background-color: var(--bg-color);\n",
              "    border: none;\n",
              "    border-radius: 50%;\n",
              "    cursor: pointer;\n",
              "    display: none;\n",
              "    fill: var(--fill-color);\n",
              "    height: 32px;\n",
              "    padding: 0;\n",
              "    width: 32px;\n",
              "  }\n",
              "\n",
              "  .colab-df-quickchart:hover {\n",
              "    background-color: var(--hover-bg-color);\n",
              "    box-shadow: 0 1px 2px rgba(60, 64, 67, 0.3), 0 1px 3px 1px rgba(60, 64, 67, 0.15);\n",
              "    fill: var(--button-hover-fill-color);\n",
              "  }\n",
              "\n",
              "  .colab-df-quickchart-complete:disabled,\n",
              "  .colab-df-quickchart-complete:disabled:hover {\n",
              "    background-color: var(--disabled-bg-color);\n",
              "    fill: var(--disabled-fill-color);\n",
              "    box-shadow: none;\n",
              "  }\n",
              "\n",
              "  .colab-df-spinner {\n",
              "    border: 2px solid var(--fill-color);\n",
              "    border-color: transparent;\n",
              "    border-bottom-color: var(--fill-color);\n",
              "    animation:\n",
              "      spin 1s steps(1) infinite;\n",
              "  }\n",
              "\n",
              "  @keyframes spin {\n",
              "    0% {\n",
              "      border-color: transparent;\n",
              "      border-bottom-color: var(--fill-color);\n",
              "      border-left-color: var(--fill-color);\n",
              "    }\n",
              "    20% {\n",
              "      border-color: transparent;\n",
              "      border-left-color: var(--fill-color);\n",
              "      border-top-color: var(--fill-color);\n",
              "    }\n",
              "    30% {\n",
              "      border-color: transparent;\n",
              "      border-left-color: var(--fill-color);\n",
              "      border-top-color: var(--fill-color);\n",
              "      border-right-color: var(--fill-color);\n",
              "    }\n",
              "    40% {\n",
              "      border-color: transparent;\n",
              "      border-right-color: var(--fill-color);\n",
              "      border-top-color: var(--fill-color);\n",
              "    }\n",
              "    60% {\n",
              "      border-color: transparent;\n",
              "      border-right-color: var(--fill-color);\n",
              "    }\n",
              "    80% {\n",
              "      border-color: transparent;\n",
              "      border-right-color: var(--fill-color);\n",
              "      border-bottom-color: var(--fill-color);\n",
              "    }\n",
              "    90% {\n",
              "      border-color: transparent;\n",
              "      border-bottom-color: var(--fill-color);\n",
              "    }\n",
              "  }\n",
              "</style>\n",
              "\n",
              "  <script>\n",
              "    async function quickchart(key) {\n",
              "      const quickchartButtonEl =\n",
              "        document.querySelector('#' + key + ' button');\n",
              "      quickchartButtonEl.disabled = true;  // To prevent multiple clicks.\n",
              "      quickchartButtonEl.classList.add('colab-df-spinner');\n",
              "      try {\n",
              "        const charts = await google.colab.kernel.invokeFunction(\n",
              "            'suggestCharts', [key], {});\n",
              "      } catch (error) {\n",
              "        console.error('Error during call to suggestCharts:', error);\n",
              "      }\n",
              "      quickchartButtonEl.classList.remove('colab-df-spinner');\n",
              "      quickchartButtonEl.classList.add('colab-df-quickchart-complete');\n",
              "    }\n",
              "    (() => {\n",
              "      let quickchartButtonEl =\n",
              "        document.querySelector('#df-4fa64b6b-d51c-489d-9efc-c0128f4f6a35 button');\n",
              "      quickchartButtonEl.style.display =\n",
              "        google.colab.kernel.accessAllowed ? 'block' : 'none';\n",
              "    })();\n",
              "  </script>\n",
              "</div>\n",
              "    </div>\n",
              "  </div>\n"
            ]
          },
          "metadata": {},
          "execution_count": 9
        }
      ]
    },
    {
      "cell_type": "markdown",
      "source": [],
      "metadata": {
        "id": "PewNHEHkvlY5"
      }
    },
    {
      "cell_type": "code",
      "source": [
        "# Now we have 88 robots and their features in each row\n",
        "X.shape"
      ],
      "metadata": {
        "colab": {
          "base_uri": "https://localhost:8080/"
        },
        "id": "SduvjtZoviGH",
        "outputId": "cd68a216-bb13-44b6-92f6-9af3b85c4b2a"
      },
      "execution_count": 14,
      "outputs": [
        {
          "output_type": "execute_result",
          "data": {
            "text/plain": [
              "(88, 4698)"
            ]
          },
          "metadata": {},
          "execution_count": 14
        }
      ]
    },
    {
      "cell_type": "markdown",
      "source": [
        "  "
      ],
      "metadata": {
        "id": "g_8VjULFweXu"
      }
    },
    {
      "cell_type": "markdown",
      "source": [
        "4698 is a huge nnumber of features. We have to do some feature selection to choose the relevant features."
      ],
      "metadata": {
        "id": "CRWpKBH_wfYM"
      }
    },
    {
      "cell_type": "markdown",
      "source": [
        "## Select Features\n",
        "\n",
        "Using the hypothesis tests implemented in tsfresh (see [here](https://tsfresh.readthedocs.io/en/latest/text/feature_filtering.html) for more information) it is now possible to select only the relevant features out of this large dataset.\n",
        "\n",
        "`tsfresh` will do a hypothesis test for each of the features to check, if it is relevant for your given target"
      ],
      "metadata": {
        "id": "d3tm03SXw-cT"
      }
    },
    {
      "cell_type": "code",
      "source": [
        "X_filtered = select_features(X, y)\n"
      ],
      "metadata": {
        "id": "EluSqMn6wP-E"
      },
      "execution_count": 15,
      "outputs": []
    },
    {
      "cell_type": "code",
      "source": [
        "X_filtered.shape"
      ],
      "metadata": {
        "colab": {
          "base_uri": "https://localhost:8080/"
        },
        "id": "BcAxdTaHxMWD",
        "outputId": "51a66b79-cb65-4c5f-f069-e24891fdc252"
      },
      "execution_count": 16,
      "outputs": [
        {
          "output_type": "execute_result",
          "data": {
            "text/plain": [
              "(88, 682)"
            ]
          },
          "metadata": {},
          "execution_count": 16
        }
      ]
    },
    {
      "cell_type": "markdown",
      "source": [
        "The features reduced from 4698 to 682"
      ],
      "metadata": {
        "id": "LAAYmMbYxOzt"
      }
    },
    {
      "cell_type": "markdown",
      "source": [
        "  "
      ],
      "metadata": {
        "id": "odN_QGC1xX_k"
      }
    },
    {
      "cell_type": "markdown",
      "source": [
        "## Model Training"
      ],
      "metadata": {
        "id": "ADOMtUIixY2y"
      }
    },
    {
      "cell_type": "code",
      "source": [
        "# Train the mmodel witthh 4698 features\n",
        "X_full_train, X_full_test, y_train, y_test = train_test_split(X, y, test_size=.2)\n",
        "\n",
        "# Train the mmodel with 682 features\n",
        "X_filtered_train, X_filtered_test = X_full_train[X_filtered.columns], X_full_test[X_filtered.columns]"
      ],
      "metadata": {
        "id": "kBZCcmNZxfxk"
      },
      "execution_count": 17,
      "outputs": []
    },
    {
      "cell_type": "code",
      "source": [
        "# All features\n",
        "classifier_full = DecisionTreeClassifier()\n",
        "classifier_full.fit(X_full_train, y_train)\n",
        "print(classification_report(y_test, classifier_full.predict(X_full_test)))"
      ],
      "metadata": {
        "colab": {
          "base_uri": "https://localhost:8080/"
        },
        "id": "Lk9cQtsKxOeZ",
        "outputId": "00309790-5c27-4741-e03b-fd0ff353f091"
      },
      "execution_count": 18,
      "outputs": [
        {
          "output_type": "stream",
          "name": "stdout",
          "text": [
            "              precision    recall  f1-score   support\n",
            "\n",
            "       False       0.94      1.00      0.97        15\n",
            "        True       1.00      0.67      0.80         3\n",
            "\n",
            "    accuracy                           0.94        18\n",
            "   macro avg       0.97      0.83      0.88        18\n",
            "weighted avg       0.95      0.94      0.94        18\n",
            "\n"
          ]
        }
      ]
    },
    {
      "cell_type": "code",
      "source": [
        "# Selected features\n",
        "classifier_filtered = DecisionTreeClassifier()\n",
        "classifier_filtered.fit(X_filtered_train, y_train)\n",
        "print(classification_report(y_test, classifier_filtered.predict(X_filtered_test)))"
      ],
      "metadata": {
        "colab": {
          "base_uri": "https://localhost:8080/"
        },
        "id": "tgpeoWizx71M",
        "outputId": "69a9e754-ed4c-45de-b5c4-6656b803941d"
      },
      "execution_count": 19,
      "outputs": [
        {
          "output_type": "stream",
          "name": "stdout",
          "text": [
            "              precision    recall  f1-score   support\n",
            "\n",
            "       False       0.94      1.00      0.97        15\n",
            "        True       1.00      0.67      0.80         3\n",
            "\n",
            "    accuracy                           0.94        18\n",
            "   macro avg       0.97      0.83      0.88        18\n",
            "weighted avg       0.95      0.94      0.94        18\n",
            "\n"
          ]
        }
      ]
    },
    {
      "cell_type": "markdown",
      "source": [
        "Compared to using all features (classifier_full), using only the relevant features (classifier_filtered) achieves the same classification performance, but with less data."
      ],
      "metadata": {
        "id": "XNroRcb3yUiU"
      }
    },
    {
      "cell_type": "markdown",
      "source": [
        "Please remember that the hypothesis test in `tsfresh` is a statistical test. You might get better performance with other feature selection methods (e.g. training a classifier with all but one feature to find its importance) - but in general the feature selection implemented in `tsfresh` will give you a very reasonable set of selected features."
      ],
      "metadata": {
        "id": "cCu2v5g9yfFf"
      }
    },
    {
      "cell_type": "markdown",
      "source": [
        "  "
      ],
      "metadata": {
        "id": "kMZPQ7BRynHZ"
      }
    },
    {
      "cell_type": "markdown",
      "source": [
        "# Extracting and Selecting Features in one step"
      ],
      "metadata": {
        "id": "jn-Jk3i2yo0X"
      }
    },
    {
      "cell_type": "markdown",
      "source": [
        "We performed the feature extraction and selection independently. If you are only interested in the list of selected features, you can run this in one step."
      ],
      "metadata": {
        "id": "YBITo4ZDywuM"
      }
    },
    {
      "cell_type": "code",
      "source": [
        "X_filtered_2 = extract_relevant_features(df, y, column_id='id', column_sort='time',\n",
        "                                         default_fc_parameters=extraction_settings)"
      ],
      "metadata": {
        "colab": {
          "base_uri": "https://localhost:8080/"
        },
        "id": "XkNZgq45ywnL",
        "outputId": "8947ebb4-69e1-417d-e128-35cbc1df4c5a"
      },
      "execution_count": 20,
      "outputs": [
        {
          "output_type": "stream",
          "name": "stderr",
          "text": [
            "Feature Extraction: 100%|██████████| 528/528 [00:36<00:00, 14.37it/s]\n"
          ]
        }
      ]
    },
    {
      "cell_type": "code",
      "source": [
        "# compare and test\n",
        " (X_filtered.columns == X_filtered_2.columns).all()"
      ],
      "metadata": {
        "colab": {
          "base_uri": "https://localhost:8080/"
        },
        "id": "piRbIqMPyY5x",
        "outputId": "2244f804-ae48-4d79-b6e8-3c023200a54f"
      },
      "execution_count": 21,
      "outputs": [
        {
          "output_type": "execute_result",
          "data": {
            "text/plain": [
              "True"
            ]
          },
          "metadata": {},
          "execution_count": 21
        }
      ]
    }
  ]
}